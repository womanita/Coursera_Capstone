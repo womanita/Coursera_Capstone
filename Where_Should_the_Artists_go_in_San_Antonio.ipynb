{
 "cells": [
  {
   "cell_type": "markdown",
   "metadata": {},
   "source": [
    "# Where Should the Artists go in San Antonio?"
   ]
  },
  {
   "cell_type": "markdown",
   "metadata": {},
   "source": [
    "## Introduction"
   ]
  },
  {
   "cell_type": "markdown",
   "metadata": {},
   "source": [
    "As we all know, being an artist is one of the most economically and socially difficult lines of work to pursue.  Notorious for poverty and isolation, finding a place to establish oneself is one of the most important dicisions for a young aspiring artist to make.  San Antonio, Texas is consistently rated as one of the fastest-growing metropolital areas in the nation.  As with all growing cities, the arts and culture scene establishes itself as the business, housing and retail sectors mature.  This makes San Antonio a cost-effective and attractive city for an aspiring young artist to establish themself.  The purpose of this project is to select the best areas of San Antonio for artists.  "
   ]
  },
  {
   "cell_type": "markdown",
   "metadata": {},
   "source": [
    "## Data"
   ]
  },
  {
   "cell_type": "markdown",
   "metadata": {},
   "source": [
    "The data used in this project will come from Foursquare API and from the City of San Antonio.  The Foursquare API data will be used to identify areas with clusters of businesses that make an area attractive to artists, like restaurants and boutique stores.  This will be contrasted with areas that the City of San Antonio has identified as \"Opportunity Zones,\" Census tracts with high levels of poverty and low incomes, perfect for new entrepreneurers.  Areas that have attractive businesses and are designated as Opportunity Zones will be selected as the most attractive for artists in San Antonio."
   ]
  },
  {
   "cell_type": "code",
   "execution_count": null,
   "metadata": {},
   "outputs": [],
   "source": []
  }
 ],
 "metadata": {
  "kernelspec": {
   "display_name": "Python 3",
   "language": "python",
   "name": "python3"
  },
  "language_info": {
   "codemirror_mode": {
    "name": "ipython",
    "version": 3
   },
   "file_extension": ".py",
   "mimetype": "text/x-python",
   "name": "python",
   "nbconvert_exporter": "python",
   "pygments_lexer": "ipython3",
   "version": "3.7.4"
  }
 },
 "nbformat": 4,
 "nbformat_minor": 2
}
